{
 "cells": [
  {
   "cell_type": "markdown",
   "id": "a990beb9",
   "metadata": {},
   "source": [
    "Get the values by replacing (1,2,3)"
   ]
  },
  {
   "cell_type": "code",
   "execution_count": 5,
   "id": "d263ef68",
   "metadata": {},
   "outputs": [],
   "source": [
    "(x, y, z) = (1,2,3)"
   ]
  },
  {
   "cell_type": "markdown",
   "id": "238dd780",
   "metadata": {},
   "source": [
    "Create the solver"
   ]
  },
  {
   "cell_type": "code",
   "execution_count": 6,
   "id": "6cbfffe6",
   "metadata": {},
   "outputs": [],
   "source": [
    "roots a b c = (rootm,rootp)\n",
    "  where\n",
    "    dis = b*b-4*a*c -- this is the discriminent\n",
    "    d' = sqrt dis\n",
    "    rootp = (-b + d')/(2*a) \n",
    "    rootm = (-b - d')/(2*a) "
   ]
  },
  {
   "cell_type": "markdown",
   "id": "f0b984df",
   "metadata": {},
   "source": [
    "Solve the problem"
   ]
  },
  {
   "cell_type": "code",
   "execution_count": 7,
   "id": "ed81f6e3",
   "metadata": {},
   "outputs": [],
   "source": [
    "(m, p) = roots x y z"
   ]
  },
  {
   "cell_type": "code",
   "execution_count": 8,
   "id": "11bb247a",
   "metadata": {},
   "outputs": [
    {
     "data": {
      "text/plain": [
       "Root m is:NaN"
      ]
     },
     "metadata": {},
     "output_type": "display_data"
    }
   ],
   "source": [
    "putStrLn $ \"Root m is:\"  ++ show m"
   ]
  },
  {
   "cell_type": "code",
   "execution_count": 9,
   "id": "289606c3",
   "metadata": {},
   "outputs": [
    {
     "data": {
      "text/plain": [
       "Root p is:NaN"
      ]
     },
     "metadata": {},
     "output_type": "display_data"
    }
   ],
   "source": [
    "putStrLn $ \"Root p is:\"  ++ show p"
   ]
  }
 ],
 "metadata": {
  "kernelspec": {
   "display_name": "Haskell",
   "language": "haskell",
   "name": "haskell"
  },
  "language_info": {
   "codemirror_mode": "ihaskell",
   "file_extension": ".hs",
   "mimetype": "text/x-haskell",
   "name": "haskell",
   "pygments_lexer": "Haskell",
   "version": "9.0.2"
  }
 },
 "nbformat": 4,
 "nbformat_minor": 5
}
