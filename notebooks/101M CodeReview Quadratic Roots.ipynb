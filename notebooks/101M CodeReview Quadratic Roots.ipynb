{
 "cells": [
  {
   "cell_type": "markdown",
   "id": "569e5af2",
   "metadata": {},
   "source": [
    "## Introduction ##\n",
    "\n",
    "This paper discusses the design and implementation of a computer program to calculate the discriminent and the roots of a quadratic equation with real coefficients. Initially intended for implementation in the gchi interpreter as hosted by replit.com and subsquently ported to an iHaskell notebook also on replit. \n",
    "\n",
    "The initial design separated into a function which encoded the algorithm and a user interface to input the coefficients and output the roots. The user interface was encoded in a do block implementing replit.com's Haskell's special main function. ASIDE The Haskell compiler ghc recognises the main function as the entry point for a stand alone executable file created by the shell command ghc Main.hs see https://wiki.haskell.org/Haskell_in_5_steps.\n",
    "\n",
    "The final design used the iHaskell notebook cells to input the coefficients as a tuple named $(a,b,c)$. The paper starts with an analysis of an attempt to write the code in the replit.com Haskell project template. This expects the program to be written as a Main.hs module, which will be executed in ghci when the run button is pressed. Cell 1 shows this work in progress. It attempts to use an imperative style of programming where variables have persistent, mutable, state.  \n",
    "\n",
    "- User interface code is duplicated in lines 3 -5 and 20-22\n",
    "- Code to input the coefficients is still to be written\n",
    "- The function __values__ doesn't yet return a value\n",
    "- The code assumes that __values__ is executed inline and the variable __roots__, local to the implementation of __values__ is still in scope at line 25. It isn't  "
   ]
  },
  {
   "cell_type": "code",
   "execution_count": null,
   "id": "5f24a072",
   "metadata": {},
   "outputs": [],
   "source": [
    "module Main where\n",
    "-- This is the code work in progess\n",
    "getName :: IO()\n",
    "name <- getLine\n",
    "printStrLn \"Hello, \"++ name\n",
    "\n",
    "\"Hello, \"++ name\n",
    "putStrLn \"Today we will find the discriminant and then the roots of a quadratic equation.\"\n",
    "values:: Int-> Int-> Int->IO()\n",
    "\n",
    "values a b c = do\n",
    "  print (\"a,b,c values\", a,b,c)\n",
    "  let v = b*b - 4*a*c\n",
    "  let det = sqrt(v)\n",
    "  let root1=(-b+det)/(2/a)\n",
    "  let root2=(-b-det)/(2/a)\n",
    "  let roots_=[root1,root2]\n",
    "\n",
    "getName =\n",
    "  do putStr \"  Enter your Name: \"\n",
    "     q <- getLine\n",
    "     putStrLn \"Hello\" + q\n",
    "\n",
    "  main = do\n",
    "   print roots_"
   ]
  },
  {
   "cell_type": "markdown",
   "id": "f0d21b25",
   "metadata": {},
   "source": [
    "This code generated a parse error on input 'module' so that line was removed."
   ]
  },
  {
   "cell_type": "code",
   "execution_count": null,
   "id": "45970b38",
   "metadata": {},
   "outputs": [],
   "source": [
    "getName :: IO()\n",
    "name <- getLine\n",
    "printStrLn \"Hello, \"++ name\n",
    "\n",
    "\"Hello, \"++ name\n",
    "putStrLn \"Today we will find the discriminant and then the roots of a quadratic equation.\"\n",
    "values:: Int-> Int-> Int->IO()\n",
    "\n",
    "values a b c = do\n",
    "  print (\"a,b,c values\", a,b,c)\n",
    "  let v = b*b - 4*a*c\n",
    "  let det = sqrt(v)\n",
    "  let root1=(-b+det)/(2/a)\n",
    "  let root2=(-b-det)/(2/a)\n",
    "  let roots_=[root1,root2]\n",
    "\n",
    "getName =\n",
    "  do putStr \"  Enter your Name: \"\n",
    "     q <- getLine\n",
    "     putStrLn \"Hello\" + q\n",
    "\n",
    "  main = do\n",
    "   print roots_"
   ]
  },
  {
   "cell_type": "markdown",
   "id": "5ce5b909",
   "metadata": {},
   "source": [
    "This code generated the error message that the type signature for ‘getName’ lacks an accompanying binding. The function is defined twice once using a do block and once without. The do block is one way of passing values between expressions. Can you diagnose what is wrong with lines 2-4 by running the next 5 cells. "
   ]
  },
  {
   "cell_type": "code",
   "execution_count": null,
   "id": "1876caf6",
   "metadata": {},
   "outputs": [],
   "source": [
    "-- initial code lines 1-3\n",
    "getName :: IO()\n",
    "  name <- getLine\n",
    "  printStrLn \"Hello, \" ++ name"
   ]
  },
  {
   "cell_type": "code",
   "execution_count": null,
   "id": "1c29ffb7",
   "metadata": {},
   "outputs": [],
   "source": [
    "-- first rewrite what is the same, what is different?\n",
    "getName :: IO()\n",
    "getName = do name <- getLine; putStrLn \"Hello, \" ++ name"
   ]
  },
  {
   "cell_type": "code",
   "execution_count": null,
   "id": "c9b5bc07",
   "metadata": {},
   "outputs": [],
   "source": [
    "-- fix (a)\n",
    "getName :: IO()\n",
    "getName = do name <- getLine; putStrLn (\"Hello, \" ++ name)"
   ]
  },
  {
   "cell_type": "code",
   "execution_count": 1,
   "id": "5786b846",
   "metadata": {},
   "outputs": [],
   "source": [
    "-- fix (b)\n",
    "getName :: IO()\n",
    "getName = do name <- getLine; putStrLn $ \"Hello, \" ++ name"
   ]
  },
  {
   "cell_type": "code",
   "execution_count": null,
   "id": "51028579",
   "metadata": {},
   "outputs": [],
   "source": [
    "-- Test getName\n",
    "getName"
   ]
  },
  {
   "cell_type": "code",
   "execution_count": null,
   "id": "f8881c07",
   "metadata": {},
   "outputs": [],
   "source": [
    "-- add line 8 contents at end of do and test\n",
    "getName = do name <- getLine; putStrLn $ \"Hello, \"++ name; putStrLn \"Today we will find the discriminant and then the roots of a quadratic equation.\"\n",
    " "
   ]
  },
  {
   "cell_type": "code",
   "execution_count": null,
   "id": "67644e46",
   "metadata": {},
   "outputs": [],
   "source": [
    "getName"
   ]
  },
  {
   "cell_type": "code",
   "execution_count": null,
   "id": "cda678ef",
   "metadata": {},
   "outputs": [],
   "source": [
    "-- now create the algorithm using Nuria's starter\n",
    "values:: Int-> Int-> Int->IO()\n",
    "\n",
    "values a b c = do\n",
    "  print (\"a,b,c values\", a,b,c)\n",
    "  let v = b*b - 4*a*c\n",
    "  let det = sqrt(v)\n",
    "  let root1=(-b+det)/(2/a)\n",
    "  let root2=(-b-det)/(2/a)\n",
    "  let roots_=[root1,root2]\n"
   ]
  },
  {
   "cell_type": "markdown",
   "id": "3c5c3980",
   "metadata": {},
   "source": [
    "The type signature on line 2 __values:: Int-> Int-> Int->IO()__ defines a function that has three arguments and returns a unit (empty) type. What is required instead is to return a pair of Floats with the specification (Float, Float). The let statements are redundant (although they are in the FL course). To return a Float we need to change the input types from Int to Float otherwise we will get a type error from the (/) operator. Test the result with $(x-1)(x-1)$"
   ]
  },
  {
   "cell_type": "code",
   "execution_count": 2,
   "id": "cff350c5",
   "metadata": {},
   "outputs": [],
   "source": [
    "values:: Float-> Float-> Float-> (Float, Float)\n",
    "values a b c = (root1, root2)\n",
    "    where\n",
    "    v = b*b - 4*a*c\n",
    "    det = sqrt v\n",
    "    root1 = (-b+det)/(2*a)\n",
    "    root2 = (-b-det)/(2*a)"
   ]
  },
  {
   "cell_type": "code",
   "execution_count": null,
   "id": "f51b63d4",
   "metadata": {},
   "outputs": [],
   "source": [
    "values 1 (-2) 1"
   ]
  },
  {
   "cell_type": "markdown",
   "id": "922ea569",
   "metadata": {},
   "source": [
    "Request all coefficients"
   ]
  },
  {
   "cell_type": "code",
   "execution_count": null,
   "id": "be2d55d4",
   "metadata": {},
   "outputs": [],
   "source": [
    "(a,b,c)=(1,-2,1)"
   ]
  },
  {
   "cell_type": "code",
   "execution_count": null,
   "id": "bdd4891d",
   "metadata": {},
   "outputs": [],
   "source": [
    "values a b c"
   ]
  },
  {
   "cell_type": "markdown",
   "id": "7b58a1da",
   "metadata": {},
   "source": [
    "## A basic repl design (with main function) ##\n",
    "\n",
    "To reproduce the basic repl design with a main function we need to add the following with explicit type conversions. The code below returns root1. We leave it to as an exercise for the reader to complete the code. However the revised notebook style is to be preferred."
   ]
  },
  {
   "cell_type": "code",
   "execution_count": 3,
   "id": "0a452289",
   "metadata": {},
   "outputs": [],
   "source": [
    "askCoeff :: String -> IO()\n",
    "askCoeff s = putStrLn $ \"Enter coefficient \" ++ s ++ \" = \""
   ]
  },
  {
   "cell_type": "code",
   "execution_count": 4,
   "id": "2606fe27",
   "metadata": {},
   "outputs": [],
   "source": [
    " valuesRoot1 inpStrA inpStrB inpStrC = root1 where (root1, _ ) = values (read inpStrA :: Float) (read inpStrB :: Float) (read inpStrC :: Float)"
   ]
  },
  {
   "cell_type": "code",
   "execution_count": 5,
   "id": "95d67fdc",
   "metadata": {},
   "outputs": [],
   "source": [
    "main = do\n",
    "    getName\n",
    "    askCoeff \"a\"\n",
    "    inpStrA <- getLine\n",
    "    print inpStrA\n",
    "    askCoeff \"b\"\n",
    "    inpStrB <- getLine\n",
    "    print inpStrB\n",
    "    askCoeff \"c\"\n",
    "    inpStrC <- getLine\n",
    "    print inpStrC\n",
    "    print (show (valuesRoot1 inpStrA inpStrB inpStrC))"
   ]
  },
  {
   "cell_type": "code",
   "execution_count": null,
   "id": "589a20ae",
   "metadata": {},
   "outputs": [],
   "source": [
    "main"
   ]
  },
  {
   "cell_type": "markdown",
   "id": "e6d46872",
   "metadata": {},
   "source": [
    "## Refactored Code ##\n",
    "\n",
    "The intermediate function valuesRoot1 can be rewritten as rootFinder, and the getLine function replaced by a function that parses the input string into a Float. This is done using the derived __read__ function for Floats."
   ]
  },
  {
   "cell_type": "code",
   "execution_count": 6,
   "id": "95db66eb",
   "metadata": {},
   "outputs": [],
   "source": [
    "rootFinder :: Float->Float->Float-> IO()\n",
    "rootFinder a b c = putStrLn (\"r1 = \" ++ show r1 ++  \" r2 = \" ++  show r2)\n",
    "    where (r1,r2) = values a b c"
   ]
  },
  {
   "cell_type": "code",
   "execution_count": 7,
   "id": "f67f1a54",
   "metadata": {},
   "outputs": [],
   "source": [
    "-- This program is derived from \"reads and sums two integers\" (haskell98 page 220)\n",
    "main =  do\n",
    "         getName\n",
    "         askCoeff \"a\"\n",
    "         a <- readNum\n",
    "         print a\n",
    "         askCoeff \"b\"\n",
    "         b <- readNum\n",
    "         print b\n",
    "         askCoeff \"c\"\n",
    "         c <- readNum\n",
    "         print c\n",
    "         rootFinder a b c\n",
    "    where readNum :: IO Float\n",
    "     -- providing a type signature avoids reliance on the defaulting rule\n",
    "     -- to fix the type of a, b, c\n",
    "          readNum = readLn"
   ]
  },
  {
   "cell_type": "code",
   "execution_count": 8,
   "id": "251feb0c",
   "metadata": {},
   "outputs": [
    {
     "data": {
      "text/plain": [
       "Hello, me\n",
       "Enter coefficient a = \n",
       "1.0\n",
       "Enter coefficient b = \n",
       "-2.0\n",
       "Enter coefficient c = \n",
       "1.0\n",
       "r1 = 1.0 r2 = 1.0"
      ]
     },
     "metadata": {},
     "output_type": "display_data"
    }
   ],
   "source": [
    "main"
   ]
  },
  {
   "cell_type": "markdown",
   "id": "27fc1043",
   "metadata": {},
   "source": [
    "## Revised Notebook ##\n",
    "Consists of getName cell below, the values cell above and a new function to be added as an exercise."
   ]
  },
  {
   "cell_type": "code",
   "execution_count": null,
   "id": "466fb4f8",
   "metadata": {},
   "outputs": [],
   "source": [
    "-- add line 8 contents at end of do and test\n",
    "getName = do name <- getLine; putStrLn $ \"Hello, \"++ name; putStrLn \"Today we will find the discriminant and then the roots of a quadratic equation. -- replace (1,-2, 1) by your coefficients and run the next two cells\""
   ]
  },
  {
   "cell_type": "code",
   "execution_count": null,
   "id": "28ce1003",
   "metadata": {},
   "outputs": [],
   "source": [
    "getName"
   ]
  },
  {
   "cell_type": "code",
   "execution_count": null,
   "id": "dbea7ba1",
   "metadata": {},
   "outputs": [],
   "source": [
    "(a,b,c)=(1,-2,1)"
   ]
  },
  {
   "cell_type": "code",
   "execution_count": null,
   "id": "071557b7",
   "metadata": {},
   "outputs": [],
   "source": [
    "values a b c"
   ]
  },
  {
   "cell_type": "markdown",
   "id": "8b1a578e",
   "metadata": {},
   "source": [
    "Can you create a new function and insert its cell so that the student first calculates the discriminant?"
   ]
  }
 ],
 "metadata": {
  "kernelspec": {
   "display_name": "Haskell",
   "language": "haskell",
   "name": "haskell"
  },
  "language_info": {
   "codemirror_mode": "ihaskell",
   "file_extension": ".hs",
   "mimetype": "text/x-haskell",
   "name": "haskell",
   "pygments_lexer": "Haskell",
   "version": "9.4.5"
  }
 },
 "nbformat": 4,
 "nbformat_minor": 5
}
