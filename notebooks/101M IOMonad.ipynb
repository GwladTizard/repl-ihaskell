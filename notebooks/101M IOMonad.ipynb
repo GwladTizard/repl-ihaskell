{
 "cells": [
  {
   "cell_type": "markdown",
   "metadata": {},
   "source": [
    "# Demystifying the `IO ()` action.\n",
    "\n",
    "\n",
    "What is the `IO ()` action and how does it play with a pure functional system?\n",
    "\n",
    "`()` is known as the unit type, or the empty tuple. Because it's empty, it contains nothing useful! \n",
    "A function that returns `()` is a function that returns no useful information.\n",
    "\n",
    "Now, imagine `IO a` is a container that contains hidden data and public data. The `a` is the public data. We don't know what the hidden data is.\n",
    "A function that returns `IO ()` is a function that returns no useful public data, but might contain important hidden data, such as what to read/write to the console!"
   ]
  },
  {
   "cell_type": "markdown",
   "metadata": {},
   "source": [
    "## `MyIO`\n",
    "\n",
    "Here's an example `MyIO`, which is similar to `IO`. It has public data like `IO`, and hidden data. But our hidden data is simply a `String`.\n",
    "\n",
    "Understanding the below instance definitions isn't required, these are provided so we can use `MyIO` like we use `IO` later in this notebook."
   ]
  },
  {
   "cell_type": "code",
   "execution_count": 42,
   "metadata": {},
   "outputs": [],
   "source": [
    "import Control.Applicative \n",
    "\n",
    "newtype MyIO a = MyIO { runIO :: (a, String) }\n",
    "\n",
    "instance Functor MyIO where\n",
    "    fmap f a = let (a', s) = runIO a in MyIO (f a', s) \n",
    "\n",
    "instance Applicative MyIO where\n",
    "  pure a = MyIO (a, \"\")\n",
    "  (<*>) fa b = let (fa', s) = runIO fa \n",
    "                   (b', s') = runIO b\n",
    "                in MyIO (fa' b', s ++ s')\n",
    "\n",
    "instance Monad MyIO where\n",
    "     (>>=) a f =  let (a', s)  = runIO a\n",
    "                      (b', s') =  runIO $ f a'\n",
    "                   in MyIO (b', s ++ s')"
   ]
  },
  {
   "cell_type": "markdown",
   "metadata": {},
   "source": [
    "In `IO` we have `getLine` and `writeStrLine` for interacting with the user.\n",
    "\n",
    "In `MyIO` we have `myGetLine` and `myWriteLine`. We don't interact with the user, but we can pretend!\n",
    "\n",
    "- `myGetLine` always returns the string `World` wrapped in a `MyIO`.\n",
    "- `myWriteLine` sets the public data to `()` but modifies the hidden data underneath which we normally can't access.\n",
    "\n",
    "We can call `runIO` to inspect the contents of `MyIO`. This effectively \"executes\" the `MyIO` and is similar to how haskell calls `main` under the hood!"
   ]
  },
  {
   "cell_type": "code",
   "execution_count": 44,
   "metadata": {},
   "outputs": [
    {
     "data": {
      "text/plain": [
       "((),\"Hello World\")"
      ]
     },
     "metadata": {},
     "output_type": "display_data"
    }
   ],
   "source": [
    "\n",
    "myGetLine :: MyIO String\n",
    "myGetLine = pure \"World\"\n",
    "\n",
    "myWriteLine :: String -> MyIO ()\n",
    "myWriteLine s = MyIO ((), s)\n",
    "\n",
    "myMain :: MyIO ()\n",
    "myMain = do \n",
    "    a <- myGetLine \n",
    "    myWriteLine $ \"Hello \" ++ a\n",
    "\n",
    "runIO myMain\n"
   ]
  },
  {
   "cell_type": "markdown",
   "metadata": {},
   "source": [
    "Notice that we get a tuple containing the public data `()`, and the hidden data \"Hello World\"."
   ]
  },
  {
   "cell_type": "markdown",
   "metadata": {},
   "source": [
    "Next, multiple invocations of `myWriteLine` will join together all the contents in the hidden data.\n",
    "\n",
    "This is because `do` blocks in the Haskell language join together by calling `(>>=)` (defined above).\n",
    "\n",
    "So each call will update the hidden data by joining together the old hidden data and new hidden data."
   ]
  },
  {
   "cell_type": "code",
   "execution_count": 39,
   "metadata": {},
   "outputs": [
    {
     "data": {
      "text/plain": [
       "((),\"Hello WorldHow are you?\")"
      ]
     },
     "metadata": {},
     "output_type": "display_data"
    }
   ],
   "source": [
    "multipleWrites :: MyIO ()\n",
    "multipleWrites = do\n",
    "    myWriteLine \"Hello World\"\n",
    "    myWriteLine \"How are you?\"\n",
    "\n",
    "runIO multipleWrites\n"
   ]
  },
  {
   "cell_type": "markdown",
   "metadata": {},
   "source": [
    "Some more advanced examples of reading integers and floats from input, and returning values other than `()`:"
   ]
  },
  {
   "cell_type": "code",
   "execution_count": 40,
   "metadata": {},
   "outputs": [
    {
     "data": {
      "text/plain": [
       "(3,\"Input an integer: \")"
      ]
     },
     "metadata": {},
     "output_type": "display_data"
    },
    {
     "data": {
      "text/plain": [
       "(3.0,\"Input a float: \")"
      ]
     },
     "metadata": {},
     "output_type": "display_data"
    }
   ],
   "source": [
    "myReadLn :: Read a => MyIO a \n",
    "myReadLn = pure (read \"3\")\n",
    "\n",
    "getInt :: MyIO Int\n",
    "getInt = do\n",
    "    myWriteLine \"Input an integer: \"\n",
    "    myReadLn\n",
    "\n",
    "runIO getInt\n",
    "\n",
    "getFloat :: MyIO Float\n",
    "getFloat = do\n",
    "    myWriteLine \"Input a float: \"\n",
    "    myReadLn\n",
    "\n",
    "runIO getFloat"
   ]
  }
 ],
 "metadata": {
  "kernelspec": {
   "display_name": "Haskell",
   "language": "haskell",
   "name": "haskell"
  },
  "language_info": {
   "codemirror_mode": "ihaskell",
   "file_extension": ".hs",
   "mimetype": "text/x-haskell",
   "name": "haskell",
   "pygments_lexer": "Haskell",
   "version": "8.10.7"
  }
 },
 "nbformat": 4,
 "nbformat_minor": 2
}
